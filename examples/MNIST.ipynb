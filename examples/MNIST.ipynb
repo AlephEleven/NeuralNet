{
  "nbformat": 4,
  "nbformat_minor": 0,
  "metadata": {
    "colab": {
      "provenance": []
    },
    "kernelspec": {
      "name": "python3",
      "display_name": "Python 3"
    },
    "language_info": {
      "name": "python"
    }
  },
  "cells": [
    {
      "cell_type": "code",
      "source": [
        "import LinearNet as nn\n",
        "from LinearNet import DataLoader\n",
        "\n",
        "from sklearn import datasets\n",
        "from sklearn.model_selection import train_test_split\n",
        "from sklearn.metrics import confusion_matrix\n",
        "\n",
        "import numpy as np\n",
        "import pandas as pd\n",
        "\n",
        "import matplotlib.pyplot as plt\n",
        "import seaborn as sns"
      ],
      "metadata": {
        "id": "n1l1FqklDRz9"
      },
      "execution_count": 1,
      "outputs": []
    },
    {
      "cell_type": "markdown",
      "source": [
        "## 1) Load MNIST Dataset"
      ],
      "metadata": {
        "id": "MbxHRSl5Dozd"
      }
    },
    {
      "cell_type": "code",
      "source": [
        "mnist = datasets.load_digits()"
      ],
      "metadata": {
        "id": "-RJF9Ii0DstM"
      },
      "execution_count": 2,
      "outputs": []
    },
    {
      "cell_type": "code",
      "source": [
        "X_mnist = mnist.data\n",
        "y_mnist = mnist.target"
      ],
      "metadata": {
        "id": "bLJx6NWmGRhL"
      },
      "execution_count": 3,
      "outputs": []
    },
    {
      "cell_type": "code",
      "source": [
        "for i in range(1, 11):\n",
        "  plt.subplot(1, 11, i)\n",
        "  plt.imshow(X_mnist[i-1].reshape(8,8))\n",
        "plt.show()"
      ],
      "metadata": {
        "colab": {
          "base_uri": "https://localhost:8080/",
          "height": 76
        },
        "id": "P_RT1hYBtUwE",
        "outputId": "ec9287a5-d879-4ea0-8274-6fad49642255"
      },
      "execution_count": 4,
      "outputs": [
        {
          "output_type": "display_data",
          "data": {
            "text/plain": [
              "<Figure size 432x288 with 10 Axes>"
            ],
            "image/png": "[encoded data removed]"
          },
          "metadata": {
            "needs_background": "light"
          }
        }
      ]
    },
    {
      "cell_type": "code",
      "source": [
        "#apply one-hot encoding\n",
        "oh_encoding = nn.OneHotEncoding()\n",
        "y_mnist_categorical = oh_encoding(y_mnist)\n",
        "\n",
        "y_mnist_categorical[0:10]"
      ],
      "metadata": {
        "colab": {
          "base_uri": "https://localhost:8080/"
        },
        "id": "yi9bRhpkGarL",
        "outputId": "a606c062-d8fe-4499-c8ff-d6ffa356b3f0"
      },
      "execution_count": 5,
      "outputs": [
        {
          "output_type": "execute_result",
          "data": {
            "text/plain": [
              "array([[1., 0., 0., 0., 0., 0., 0., 0., 0., 0.],\n",
              "       [0., 1., 0., 0., 0., 0., 0., 0., 0., 0.],\n",
              "       [0., 0., 1., 0., 0., 0., 0., 0., 0., 0.],\n",
              "       [0., 0., 0., 1., 0., 0., 0., 0., 0., 0.],\n",
              "       [0., 0., 0., 0., 1., 0., 0., 0., 0., 0.],\n",
              "       [0., 0., 0., 0., 0., 1., 0., 0., 0., 0.],\n",
              "       [0., 0., 0., 0., 0., 0., 1., 0., 0., 0.],\n",
              "       [0., 0., 0., 0., 0., 0., 0., 1., 0., 0.],\n",
              "       [0., 0., 0., 0., 0., 0., 0., 0., 1., 0.],\n",
              "       [0., 0., 0., 0., 0., 0., 0., 0., 0., 1.]])"
            ]
          },
          "metadata": {},
          "execution_count": 5
        }
      ]
    },
    {
      "cell_type": "code",
      "source": [
        "X_train, X_test, y_train, y_test = train_test_split(X_mnist, y_mnist_categorical, test_size=0.2, random_state=42)\n",
        "print(X_train.shape, X_test.shape, y_train.shape, y_test.shape)\n",
        "\n",
        "mnist_training = DataLoader(X_train, y_train, batch_size=128)"
      ],
      "metadata": {
        "id": "BxeyW-Y9H43r",
        "colab": {
          "base_uri": "https://localhost:8080/"
        },
        "outputId": "feea62d0-c4b9-449c-8089-978d0baec9ed"
      },
      "execution_count": 6,
      "outputs": [
        {
          "output_type": "stream",
          "name": "stdout",
          "text": [
            "(1437, 64) (360, 64) (1437, 10) (360, 10)\n"
          ]
        }
      ]
    },
    {
      "cell_type": "markdown",
      "source": [
        "## 2) Neural Network"
      ],
      "metadata": {
        "id": "T7RQJ_sYGD-9"
      }
    },
    {
      "cell_type": "code",
      "source": [
        "model = nn.NeuralNet()\n",
        "\n",
        "#Linear[64, 128] -> Tanh -> Linear[128, 16] -> Tanh -> Linear[16, 16] -> SoftMax\n",
        "model.Sequential(nn.Linear(64,128),\n",
        "                 nn.Tanh(),\n",
        "                 nn.Linear(128, 16),\n",
        "                 nn.Tanh(),\n",
        "                 nn.Linear(16, 10),\n",
        "                 nn.SoftMax())\n",
        "\n",
        "loss_fn = nn.CrossEntropyLoss()\n",
        "gradient_descent = nn.StochasticGradientDescent(lr=0.001)\n",
        "epochs = 250"
      ],
      "metadata": {
        "id": "JB1OyDxmIQOq"
      },
      "execution_count": 7,
      "outputs": []
    },
    {
      "cell_type": "code",
      "source": [
        "model.hyperparameters"
      ],
      "metadata": {
        "colab": {
          "base_uri": "https://localhost:8080/"
        },
        "id": "ScRgvQEXNl2o",
        "outputId": "4140e661-9da5-4198-827a-9f0f11dcbdf9"
      },
      "execution_count": 8,
      "outputs": [
        {
          "output_type": "execute_result",
          "data": {
            "text/plain": [
              "10554"
            ]
          },
          "metadata": {},
          "execution_count": 8
        }
      ]
    },
    {
      "cell_type": "code",
      "source": [
        "model_out = model.train(mnist_training,\n",
        "                        loss_fn,\n",
        "                        gradient_descent,\n",
        "                        epochs,\n",
        "                        timed=False)"
      ],
      "metadata": {
        "colab": {
          "base_uri": "https://localhost:8080/"
        },
        "id": "0dzEsjiAIWjs",
        "outputId": "f7f27511-498a-47e1-a624-00b366a909e1"
      },
      "execution_count": 9,
      "outputs": [
        {
          "output_type": "stream",
          "name": "stdout",
          "text": [
            "Epoch #25\tLoss: 1503.306\tAcc: 0.809\t \n",
            "Epoch #50\tLoss: 843.823\tAcc: 0.903\t \n",
            "Epoch #75\tLoss: 596.402\tAcc: 0.937\t \n",
            "Epoch #100\tLoss: 506.347\tAcc: 0.945\t \n",
            "Epoch #125\tLoss: 441.987\tAcc: 0.951\t \n",
            "Epoch #150\tLoss: 395.313\tAcc: 0.955\t \n",
            "Epoch #175\tLoss: 375.576\tAcc: 0.955\t \n",
            "Epoch #200\tLoss: 325.454\tAcc: 0.96\t \n",
            "Epoch #225\tLoss: 306.555\tAcc: 0.961\t \n",
            "Epoch #250\tLoss: 286.953\tAcc: 0.965\t \n"
          ]
        }
      ]
    },
    {
      "cell_type": "code",
      "source": [
        "plt.plot(np.arange(0, len(model_out[\"loss_hist\"])), model_out[\"loss_hist\"])\n",
        "plt.title(\"Epoch vs Loss (Cross-Entropy)\")\n",
        "plt.show()"
      ],
      "metadata": {
        "colab": {
          "base_uri": "https://localhost:8080/",
          "height": 281
        },
        "id": "XGD9jrmJJeNa",
        "outputId": "e00ff769-7fd2-4565-9e0b-1a2cd621d434"
      },
      "execution_count": 10,
      "outputs": [
        {
          "output_type": "display_data",
          "data": {
            "text/plain": [
              "<Figure size 432x288 with 1 Axes>"
            ],
            "image/png": "[encoded data removed]"
          },
          "metadata": {
            "needs_background": "light"
          }
        }
      ]
    },
    {
      "cell_type": "code",
      "source": [
        "preds = np.array([np.argmax(model(X_test[i])) for i in range(X_test.shape[0])])"
      ],
      "metadata": {
        "id": "LmRJVb6tMM4q"
      },
      "execution_count": 11,
      "outputs": []
    },
    {
      "cell_type": "code",
      "source": [
        "preds"
      ],
      "metadata": {
        "colab": {
          "base_uri": "https://localhost:8080/"
        },
        "id": "0aRQ6pBGQoG4",
        "outputId": "14dece32-caab-418a-fc37-64163506bb26"
      },
      "execution_count": 12,
      "outputs": [
        {
          "output_type": "execute_result",
          "data": {
            "text/plain": [
              "array([6, 9, 3, 7, 5, 2, 5, 3, 5, 9, 1, 9, 4, 0, 4, 2, 3, 7, 8, 8, 4, 3,\n",
              "       9, 7, 1, 6, 8, 5, 3, 3, 4, 9, 8, 4, 4, 6, 9, 4, 7, 6, 6, 9, 1, 3,\n",
              "       6, 1, 3, 0, 6, 5, 5, 1, 3, 5, 6, 0, 9, 0, 0, 1, 3, 4, 5, 2, 4, 5,\n",
              "       3, 0, 7, 5, 9, 9, 5, 6, 7, 0, 4, 5, 5, 9, 9, 0, 2, 7, 8, 0, 6, 4,\n",
              "       4, 3, 1, 2, 1, 3, 5, 5, 9, 1, 5, 4, 4, 3, 5, 9, 1, 8, 5, 9, 4, 2,\n",
              "       7, 7, 4, 4, 1, 9, 3, 7, 5, 7, 2, 6, 9, 4, 6, 7, 6, 7, 5, 8, 7, 3,\n",
              "       7, 3, 0, 6, 6, 4, 2, 8, 0, 9, 4, 6, 9, 9, 6, 9, 0, 5, 8, 6, 6, 0,\n",
              "       6, 4, 3, 9, 3, 1, 7, 2, 9, 0, 0, 5, 8, 6, 5, 7, 9, 8, 4, 5, 1, 8,\n",
              "       7, 3, 2, 2, 3, 9, 8, 0, 3, 8, 3, 5, 6, 9, 9, 4, 1, 0, 4, 2, 3, 6,\n",
              "       4, 8, 5, 9, 5, 7, 8, 9, 4, 8, 1, 5, 4, 4, 9, 5, 1, 8, 6, 0, 4, 5,\n",
              "       2, 7, 4, 6, 4, 5, 6, 0, 9, 2, 3, 6, 7, 1, 9, 1, 4, 4, 6, 5, 1, 5,\n",
              "       5, 8, 6, 2, 8, 8, 3, 1, 7, 6, 2, 2, 2, 3, 4, 8, 8, 3, 6, 0, 3, 7,\n",
              "       7, 0, 1, 0, 4, 5, 8, 5, 3, 5, 0, 1, 1, 0, 0, 9, 6, 5, 9, 7, 3, 5,\n",
              "       5, 9, 9, 8, 5, 9, 3, 1, 0, 5, 8, 3, 4, 0, 8, 4, 6, 4, 3, 4, 9, 0,\n",
              "       5, 2, 1, 3, 1, 4, 5, 1, 7, 0, 1, 5, 2, 1, 8, 9, 7, 0, 6, 4, 8, 6,\n",
              "       5, 7, 2, 4, 5, 8, 3, 9, 6, 5, 0, 6, 6, 0, 7, 9, 8, 9, 5, 2, 7, 7,\n",
              "       9, 9, 7, 4, 3, 2, 3, 5])"
            ]
          },
          "metadata": {},
          "execution_count": 12
        }
      ]
    },
    {
      "cell_type": "code",
      "source": [
        "acc = np.mean(preds == np.argmax(y_test, axis=1)).round(3)\n",
        "conf_mat = pd.DataFrame(confusion_matrix(np.apply_along_axis(np.argmax, 1, y_test), preds), columns=[f\"#{name}\" for _, name in enumerate(mnist.target_names)])\n",
        "sns.heatmap(conf_mat, cmap='rocket_r')\n",
        "plt.title(f\"MNIST Confusion Matrix (accuracy={acc})\")\n",
        "plt.show()"
      ],
      "metadata": {
        "colab": {
          "base_uri": "https://localhost:8080/",
          "height": 281
        },
        "id": "E5c-4HqHcv2y",
        "outputId": "bc14a36d-324a-4da2-f8c0-83d515354d40"
      },
      "execution_count": 13,
      "outputs": [
        {
          "output_type": "display_data",
          "data": {
            "text/plain": [
              "<Figure size 432x288 with 2 Axes>"
            ],
            "image/png": "[encoded data removed]"
          },
          "metadata": {
            "needs_background": "light"
          }
        }
      ]
    }
  ]
}