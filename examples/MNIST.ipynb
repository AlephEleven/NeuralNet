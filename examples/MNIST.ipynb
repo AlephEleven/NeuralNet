{
  "nbformat": 4,
  "nbformat_minor": 0,
  "metadata": {
    "colab": {
      "provenance": []
    },
    "kernelspec": {
      "name": "python3",
      "display_name": "Python 3"
    },
    "language_info": {
      "name": "python"
    }
  },
  "cells": [
    {
      "cell_type": "code",
      "source": [
        "import LinearNet as nn\n",
        "\n",
        "from sklearn import datasets\n",
        "from sklearn.model_selection import train_test_split\n",
        "from sklearn.metrics import confusion_matrix\n",
        "\n",
        "import numpy as np\n",
        "import pandas as pd\n",
        "\n",
        "import matplotlib.pyplot as plt\n",
        "import seaborn as sns"
      ],
      "metadata": {
        "id": "n1l1FqklDRz9"
      },
      "execution_count": 2,
      "outputs": []
    },
    {
      "cell_type": "markdown",
      "source": [
        "## 1) Load MNIST Dataset"
      ],
      "metadata": {
        "id": "MbxHRSl5Dozd"
      }
    },
    {
      "cell_type": "code",
      "source": [
        "mnist = datasets.load_digits()"
      ],
      "metadata": {
        "id": "-RJF9Ii0DstM"
      },
      "execution_count": 3,
      "outputs": []
    },
    {
      "cell_type": "code",
      "source": [
        "X_mnist = mnist.data\n",
        "y_mnist = mnist.target"
      ],
      "metadata": {
        "id": "bLJx6NWmGRhL"
      },
      "execution_count": 7,
      "outputs": []
    },
    {
      "cell_type": "code",
      "source": [
        "for i in range(1, 11):\n",
        "  plt.subplot(1, 11, i)\n",
        "  plt.imshow(X_mnist[i-1].reshape(8,8))\n",
        "plt.show()"
      ],
      "metadata": {
        "colab": {
          "base_uri": "https://localhost:8080/",
          "height": 76
        },
        "id": "P_RT1hYBtUwE",
        "outputId": "0705470d-fabc-4bf8-d3da-1a2a6d35c99b"
      },
      "execution_count": 40,
      "outputs": [
        {
          "output_type": "display_data",
          "data": {
            "text/plain": [
              "<Figure size 432x288 with 10 Axes>"
            ],
            "image/png": "[encoded data removed]"
          },
          "metadata": {
            "needs_background": "light"
          }
        }
      ]
    },
    {
      "cell_type": "code",
      "source": [
        "#apply one-hot encoding\n",
        "oh_encoding = nn.OneHotEncoding()\n",
        "y_mnist_categorical = oh_encoding(y_mnist)\n",
        "\n",
        "y_mnist_categorical[0:10]"
      ],
      "metadata": {
        "colab": {
          "base_uri": "https://localhost:8080/"
        },
        "id": "yi9bRhpkGarL",
        "outputId": "8e48fe5a-cf6f-4220-e291-a3b87ed245a3"
      },
      "execution_count": 44,
      "outputs": [
        {
          "output_type": "execute_result",
          "data": {
            "text/plain": [
              "array([[1., 0., 0., 0., 0., 0., 0., 0., 0., 0.],\n",
              "       [0., 1., 0., 0., 0., 0., 0., 0., 0., 0.],\n",
              "       [0., 0., 1., 0., 0., 0., 0., 0., 0., 0.],\n",
              "       [0., 0., 0., 1., 0., 0., 0., 0., 0., 0.],\n",
              "       [0., 0., 0., 0., 1., 0., 0., 0., 0., 0.],\n",
              "       [0., 0., 0., 0., 0., 1., 0., 0., 0., 0.],\n",
              "       [0., 0., 0., 0., 0., 0., 1., 0., 0., 0.],\n",
              "       [0., 0., 0., 0., 0., 0., 0., 1., 0., 0.],\n",
              "       [0., 0., 0., 0., 0., 0., 0., 0., 1., 0.],\n",
              "       [0., 0., 0., 0., 0., 0., 0., 0., 0., 1.]])"
            ]
          },
          "metadata": {},
          "execution_count": 44
        }
      ]
    },
    {
      "cell_type": "code",
      "source": [
        "X_train, X_test, y_train, y_test = train_test_split(X_mnist, y_mnist_categorical, test_size=0.2, random_state=42)"
      ],
      "metadata": {
        "id": "BxeyW-Y9H43r"
      },
      "execution_count": 48,
      "outputs": []
    },
    {
      "cell_type": "code",
      "source": [
        "X_train.shape, X_test.shape, y_train.shape, y_test.shape"
      ],
      "metadata": {
        "colab": {
          "base_uri": "https://localhost:8080/"
        },
        "id": "wiNjUH1CIHaq",
        "outputId": "b56b1a2c-dc4e-4497-9aaa-6470ea8bb28a"
      },
      "execution_count": 49,
      "outputs": [
        {
          "output_type": "execute_result",
          "data": {
            "text/plain": [
              "((1437, 64), (360, 64), (1437, 10), (360, 10))"
            ]
          },
          "metadata": {},
          "execution_count": 49
        }
      ]
    },
    {
      "cell_type": "markdown",
      "source": [
        "## 2) Neural Network"
      ],
      "metadata": {
        "id": "T7RQJ_sYGD-9"
      }
    },
    {
      "cell_type": "code",
      "source": [
        "model = nn.NeuralNet()\n",
        "\n",
        "#Linear[64, 128] -> Tanh -> Linear[128, 16] -> Tanh -> Linear[16, 16] -> SoftMax\n",
        "model.Sequential(nn.Linear(64,128),\n",
        "                 nn.Tanh(),\n",
        "                 nn.Linear(128, 16),\n",
        "                 nn.Tanh(),\n",
        "                 nn.Linear(16, 10),\n",
        "                 nn.SoftMax())\n",
        "\n",
        "loss_fn = nn.CrossEntropyLoss()\n",
        "epochs = 250\n",
        "lr = 0.001"
      ],
      "metadata": {
        "id": "JB1OyDxmIQOq"
      },
      "execution_count": 76,
      "outputs": []
    },
    {
      "cell_type": "code",
      "source": [
        "model.hyperparameters"
      ],
      "metadata": {
        "colab": {
          "base_uri": "https://localhost:8080/"
        },
        "id": "ScRgvQEXNl2o",
        "outputId": "f11a1c6e-27e6-4f42-9b08-eb3975efdf89"
      },
      "execution_count": 77,
      "outputs": [
        {
          "output_type": "execute_result",
          "data": {
            "text/plain": [
              "10554"
            ]
          },
          "metadata": {},
          "execution_count": 77
        }
      ]
    },
    {
      "cell_type": "code",
      "source": [
        "model_out = model.train(X_train,\n",
        "                        y_train,\n",
        "                        loss_fn,\n",
        "                        epochs,\n",
        "                        lr)"
      ],
      "metadata": {
        "colab": {
          "base_uri": "https://localhost:8080/"
        },
        "id": "0dzEsjiAIWjs",
        "outputId": "c6b61715-862f-4228-b145-64ce9862d425"
      },
      "execution_count": 78,
      "outputs": [
        {
          "output_type": "stream",
          "name": "stdout",
          "text": [
            "Epoch #25\tLoss: 1473.127\tAcc: 0.798\n",
            "Epoch #50\tLoss: 849.379\tAcc: 0.906\n",
            "Epoch #75\tLoss: 646.668\tAcc: 0.932\n",
            "Epoch #100\tLoss: 535.953\tAcc: 0.946\n",
            "Epoch #125\tLoss: 463.102\tAcc: 0.951\n",
            "Epoch #150\tLoss: 420.676\tAcc: 0.959\n",
            "Epoch #175\tLoss: 374.54\tAcc: 0.965\n",
            "Epoch #200\tLoss: 333.686\tAcc: 0.969\n",
            "Epoch #225\tLoss: 300.65\tAcc: 0.974\n",
            "Epoch #250\tLoss: 279.26\tAcc: 0.977\n"
          ]
        }
      ]
    },
    {
      "cell_type": "code",
      "source": [
        "plt.plot(np.arange(0, len(model_out[\"loss_hist\"])), model_out[\"loss_hist\"])\n",
        "plt.title(\"Epoch vs Loss (Cross-Entropy)\")\n",
        "plt.show()"
      ],
      "metadata": {
        "colab": {
          "base_uri": "https://localhost:8080/",
          "height": 281
        },
        "id": "XGD9jrmJJeNa",
        "outputId": "1600a229-abdf-4826-cc62-6117dfe7a48a"
      },
      "execution_count": 79,
      "outputs": [
        {
          "output_type": "display_data",
          "data": {
            "text/plain": [
              "<Figure size 432x288 with 1 Axes>"
            ],
            "image/png": "[encoded data removed]"
          },
          "metadata": {
            "needs_background": "light"
          }
        }
      ]
    },
    {
      "cell_type": "code",
      "source": [
        "preds = np.array([np.argmax(model(X_test[i])) for i in range(X_test.shape[0])])"
      ],
      "metadata": {
        "id": "LmRJVb6tMM4q"
      },
      "execution_count": 80,
      "outputs": []
    },
    {
      "cell_type": "code",
      "source": [
        "preds"
      ],
      "metadata": {
        "colab": {
          "base_uri": "https://localhost:8080/"
        },
        "id": "0aRQ6pBGQoG4",
        "outputId": "50e2f481-b0a1-4c1d-fad3-fdb0441d8437"
      },
      "execution_count": 81,
      "outputs": [
        {
          "output_type": "execute_result",
          "data": {
            "text/plain": [
              "array([6, 9, 3, 7, 7, 1, 5, 2, 5, 2, 3, 9, 7, 0, 4, 2, 3, 7, 8, 8, 4, 3,\n",
              "       9, 7, 5, 5, 3, 5, 6, 3, 4, 8, 3, 4, 4, 6, 9, 4, 7, 6, 6, 9, 1, 3,\n",
              "       7, 1, 1, 0, 6, 5, 3, 1, 1, 5, 6, 0, 5, 0, 0, 1, 0, 4, 5, 2, 4, 5,\n",
              "       7, 0, 7, 5, 9, 3, 6, 1, 7, 0, 4, 6, 5, 2, 9, 9, 2, 3, 8, 0, 6, 4,\n",
              "       4, 9, 1, 2, 8, 3, 5, 2, 9, 0, 4, 7, 4, 3, 5, 3, 1, 3, 5, 9, 4, 3,\n",
              "       7, 7, 4, 4, 1, 9, 2, 7, 8, 7, 2, 6, 9, 4, 3, 7, 2, 7, 5, 8, 7, 5,\n",
              "       7, 9, 0, 6, 6, 4, 2, 9, 0, 9, 6, 4, 9, 9, 6, 9, 0, 5, 5, 0, 6, 0,\n",
              "       6, 4, 8, 9, 3, 9, 7, 2, 5, 0, 4, 5, 3, 6, 5, 1, 9, 9, 4, 2, 1, 3,\n",
              "       7, 3, 2, 2, 3, 0, 8, 0, 3, 2, 2, 5, 6, 9, 9, 4, 4, 5, 9, 2, 3, 5,\n",
              "       4, 8, 5, 9, 5, 7, 8, 9, 4, 8, 1, 5, 4, 4, 9, 6, 7, 6, 6, 0, 4, 5,\n",
              "       2, 7, 4, 6, 4, 5, 6, 9, 3, 2, 3, 6, 7, 1, 5, 1, 4, 7, 6, 9, 8, 5,\n",
              "       5, 1, 0, 1, 8, 3, 9, 1, 7, 6, 2, 2, 2, 3, 7, 8, 2, 3, 7, 0, 5, 7,\n",
              "       5, 0, 1, 0, 4, 5, 8, 5, 3, 6, 0, 4, 1, 0, 9, 3, 6, 5, 9, 7, 3, 5,\n",
              "       5, 8, 9, 8, 5, 3, 3, 7, 0, 6, 8, 3, 4, 0, 2, 4, 6, 4, 3, 4, 5, 0,\n",
              "       5, 2, 1, 3, 1, 4, 1, 1, 7, 0, 1, 1, 2, 8, 2, 8, 7, 0, 6, 4, 8, 1,\n",
              "       5, 1, 1, 4, 5, 7, 7, 9, 9, 5, 0, 4, 1, 0, 7, 9, 1, 9, 5, 1, 7, 7,\n",
              "       9, 8, 7, 4, 3, 8, 8, 5])"
            ]
          },
          "metadata": {},
          "execution_count": 81
        }
      ]
    },
    {
      "cell_type": "code",
      "source": [
        "conf_mat = pd.DataFrame(confusion_matrix(np.apply_along_axis(np.argmax, 1, y_test), preds), columns=[f\"#{name}\" for _, name in enumerate(mnist.target_names)])\n",
        "sns.heatmap(conf_mat)\n",
        "plt.title(\"MNIST Confusion Matrix\")\n",
        "plt.show()"
      ],
      "metadata": {
        "colab": {
          "base_uri": "https://localhost:8080/",
          "height": 281
        },
        "id": "E5c-4HqHcv2y",
        "outputId": "c05548ac-2558-433e-b66d-d298a5c0fbc7"
      },
      "execution_count": 82,
      "outputs": [
        {
          "output_type": "display_data",
          "data": {
            "text/plain": [
              "<Figure size 432x288 with 2 Axes>"
            ],
            "image/png": "[encoded data removed]"
          },
          "metadata": {
            "needs_background": "light"
          }
        }
      ]
    }
  ]
}